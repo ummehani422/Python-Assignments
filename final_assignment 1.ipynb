{
 "cells": [
  {
   "cell_type": "code",
   "execution_count": 2,
   "metadata": {},
   "outputs": [
    {
     "name": "stdout",
     "output_type": "stream",
     "text": [
      "Twinkle, twinkle, Little star\n",
      "       How I wonder what you are!\n",
      "             Up above the world so high,\n",
      "             Like a diamond in the sky.\n",
      "Twinkle, twinkle, Little star\n",
      "       How I wonder what you are!\n"
     ]
    }
   ],
   "source": [
    "print('Twinkle, twinkle, Little star')\n",
    "print('       How I wonder what you are!')\n",
    "print('             Up above the world so high,')\n",
    "print('             Like a diamond in the sky.')\n",
    "print('Twinkle, twinkle, Little star')\n",
    "print('       How I wonder what you are!')\n"
   ]
  },
  {
   "cell_type": "code",
   "execution_count": 6,
   "metadata": {},
   "outputs": [
    {
     "name": "stdout",
     "output_type": "stream",
     "text": [
      "2019-11-26 11:12:17.855778\n"
     ]
    }
   ],
   "source": [
    "from datetime import datetime\n",
    "date_time = datetime.now()\n",
    "print(date_time)"
   ]
  },
  {
   "cell_type": "code",
   "execution_count": 8,
   "metadata": {},
   "outputs": [
    {
     "name": "stdout",
     "output_type": "stream",
     "text": [
      "ENTER THE RADIUS OF THE CIRLCE76\n",
      "THE AREA OF THE CIRCLE WITH RADIUS: 76.0 is 18145.839167134644\n"
     ]
    }
   ],
   "source": [
    "from math import pi\n",
    "r = float(input(\"ENTER THE RADIUS OF THE CIRLCE\"))\n",
    "print(\"THE AREA OF THE CIRCLE WITH RADIUS: \" + str(r) + \" is \" + str(pi * r**2) )"
   ]
  },
  {
   "cell_type": "code",
   "execution_count": 13,
   "metadata": {},
   "outputs": [
    {
     "name": "stdout",
     "output_type": "stream",
     "text": [
      "Enter your First Name:UMME\n",
      "Enter your last name:HANI\n",
      "HANI UMME\n"
     ]
    }
   ],
   "source": [
    "f_name = input(\"Enter your First Name:\")\n",
    "l_name = input(\"Enter your last name:\")\n",
    "print(l_name , f_name)"
   ]
  },
  {
   "cell_type": "code",
   "execution_count": 20,
   "metadata": {},
   "outputs": [
    {
     "name": "stdout",
     "output_type": "stream",
     "text": [
      "Enter First number: 8\n",
      "Enter Second Number: 8\n",
      "16\n"
     ]
    }
   ],
   "source": [
    "a  = int(input(\"Enter First number: \"))\n",
    "b = int(input(\"Enter Second Number: \"))\n",
    "c = a + b\n",
    "print(c)"
   ]
  },
  {
   "cell_type": "code",
   "execution_count": null,
   "metadata": {},
   "outputs": [],
   "source": []
  }
 ],
 "metadata": {
  "kernelspec": {
   "display_name": "Python 3",
   "language": "python",
   "name": "python3"
  },
  "language_info": {
   "codemirror_mode": {
    "name": "ipython",
    "version": 3
   },
   "file_extension": ".py",
   "mimetype": "text/x-python",
   "name": "python",
   "nbconvert_exporter": "python",
   "pygments_lexer": "ipython3",
   "version": "3.7.4"
  }
 },
 "nbformat": 4,
 "nbformat_minor": 2
}

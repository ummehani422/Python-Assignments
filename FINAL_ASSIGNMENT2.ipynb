{
 "cells": [
  {
   "cell_type": "code",
   "execution_count": 1,
   "metadata": {},
   "outputs": [
    {
     "name": "stdout",
     "output_type": "stream",
     "text": [
      "ENTER THE MARKS OF CPPS: 90\n",
      "ENTER THE MARKS OF OS: 90\n",
      "ENTER THE MARKS OF PYTHON: 90\n",
      "ENTER THE MARKS OF PF: 90\n",
      "ENTER THE MARKS OF DSA: 90\n",
      "Grade: A\n"
     ]
    }
   ],
   "source": [
    "cpps = int(input(\"ENTER THE MARKS OF CPPS: \"))\n",
    "os = int(input(\"ENTER THE MARKS OF OS: \"))\n",
    "py = int(input(\"ENTER THE MARKS OF PYTHON: \"))\n",
    "pf = int(input(\"ENTER THE MARKS OF PF: \"))\n",
    "dsa = int(input(\"ENTER THE MARKS OF DSA: \"))\n",
    "\n",
    "per = (cpps+os+py+pf+dsa)/5\n",
    "if(per>=90 ):\n",
    "    print(\"Grade: A\")\n",
    "elif(per>=80&per<90):\n",
    "    print(\"Grade: B\")\n",
    "elif(per>=70&per<80):\n",
    "    print(\"Grade: C\")\n",
    "elif(per>=60&per<70):\n",
    "    print(\"Grade: D\")\n",
    "else:\n",
    "    print(\"Grade: F\")"
   ]
  },
  {
   "cell_type": "code",
   "execution_count": 2,
   "metadata": {},
   "outputs": [
    {
     "name": "stdout",
     "output_type": "stream",
     "text": [
      "Enter a number: 6\n",
      "6 IS EVEN\n"
     ]
    }
   ],
   "source": [
    "num = int(input(\"Enter a number: \"))\n",
    "if(num % 2) == 0:\n",
    "    print(\"{0} IS EVEN\".format(num))\n",
    "else:\n",
    "    print(\"{0} is ODD\".format(num) )"
   ]
  },
  {
   "cell_type": "code",
   "execution_count": 3,
   "metadata": {},
   "outputs": [
    {
     "name": "stdout",
     "output_type": "stream",
     "text": [
      "THE LENGHT OF THE LIST IS:  4\n"
     ]
    }
   ],
   "source": [
    "n = len([20,30,40,50])\n",
    "print(\"THE LENGHT OF THE LIST IS: \", n)"
   ]
  },
  {
   "cell_type": "code",
   "execution_count": 4,
   "metadata": {},
   "outputs": [
    {
     "name": "stdout",
     "output_type": "stream",
     "text": [
      "How many numbers: 3\n",
      "Enter number 7\n",
      "Sum of elements in given list is : 7\n",
      "Enter number 8\n",
      "Sum of elements in given list is : 15\n",
      "Enter number 9\n",
      "Sum of elements in given list is : 24\n"
     ]
    }
   ],
   "source": [
    "lst = []\n",
    "num = int(input('How many numbers: '))\n",
    "for n in range(num):\n",
    "    numbers = int(input('Enter number '))\n",
    "    lst.append(numbers)\n",
    "    print(\"Sum of elements in given list is :\", sum(lst))"
   ]
  },
  {
   "cell_type": "code",
   "execution_count": 5,
   "metadata": {},
   "outputs": [
    {
     "name": "stdout",
     "output_type": "stream",
     "text": [
      "Enter Total list Numbers: 3\n",
      "Enter elements: 54\n",
      "THE LARGEST NUMBER IS 54\n",
      "Enter elements: 78\n",
      "THE LARGEST NUMBER IS 78\n",
      "Enter elements: 1000\n",
      "THE LARGEST NUMBER IS 1000\n"
     ]
    }
   ],
   "source": [
    "list = []\n",
    "num = int(input(\"Enter Total list Numbers: \"))\n",
    "\n",
    "for a in range(1,num+1):\n",
    "    element = int(input(\"Enter elements: \"))\n",
    "    list.append(element)\n",
    "    print(\"THE LARGEST NUMBER IS\", max(list))"
   ]
  },
  {
   "cell_type": "code",
   "execution_count": 7,
   "metadata": {},
   "outputs": [
    {
     "ename": "TypeError",
     "evalue": "'int' object is not iterable",
     "output_type": "error",
     "traceback": [
      "\u001b[1;31m---------------------------------------------------------------------------\u001b[0m",
      "\u001b[1;31mTypeError\u001b[0m                                 Traceback (most recent call last)",
      "\u001b[1;32m<ipython-input-7-3809ce9908ec>\u001b[0m in \u001b[0;36m<module>\u001b[1;34m\u001b[0m\n\u001b[0;32m      1\u001b[0m \u001b[0mlist\u001b[0m \u001b[1;33m=\u001b[0m \u001b[0mlen\u001b[0m\u001b[1;33m(\u001b[0m\u001b[1;33m[\u001b[0m\u001b[1;36m1\u001b[0m\u001b[1;33m,\u001b[0m\u001b[1;36m1\u001b[0m\u001b[1;33m,\u001b[0m\u001b[1;36m2\u001b[0m\u001b[1;33m,\u001b[0m\u001b[1;36m3\u001b[0m\u001b[1;33m,\u001b[0m\u001b[1;36m58\u001b[0m\u001b[1;33m,\u001b[0m\u001b[1;36m13\u001b[0m\u001b[1;33m,\u001b[0m\u001b[1;36m2134\u001b[0m\u001b[1;33m,\u001b[0m\u001b[1;36m55\u001b[0m\u001b[1;33m,\u001b[0m\u001b[1;36m98\u001b[0m\u001b[1;33m]\u001b[0m\u001b[1;33m)\u001b[0m\u001b[1;33m\u001b[0m\u001b[1;33m\u001b[0m\u001b[0m\n\u001b[1;32m----> 2\u001b[1;33m \u001b[0mx\u001b[0m\u001b[1;33m=\u001b[0m\u001b[1;33m[\u001b[0m\u001b[0mi\u001b[0m \u001b[1;32mfor\u001b[0m \u001b[0mi\u001b[0m \u001b[1;32min\u001b[0m \u001b[0ma\u001b[0m \u001b[1;32mif\u001b[0m \u001b[0mi\u001b[0m \u001b[1;33m<\u001b[0m\u001b[1;36m5\u001b[0m\u001b[1;33m]\u001b[0m\u001b[1;33m\u001b[0m\u001b[1;33m\u001b[0m\u001b[0m\n\u001b[0m\u001b[0;32m      3\u001b[0m \u001b[0mprint\u001b[0m\u001b[1;33m(\u001b[0m\u001b[0mx\u001b[0m\u001b[1;33m)\u001b[0m\u001b[1;33m\u001b[0m\u001b[1;33m\u001b[0m\u001b[0m\n",
      "\u001b[1;31mTypeError\u001b[0m: 'int' object is not iterable"
     ]
    }
   ],
   "source": [
    "\n"
   ]
  },
  {
   "cell_type": "code",
   "execution_count": null,
   "metadata": {},
   "outputs": [],
   "source": []
  }
 ],
 "metadata": {
  "kernelspec": {
   "display_name": "Python 3",
   "language": "python",
   "name": "python3"
  },
  "language_info": {
   "codemirror_mode": {
    "name": "ipython",
    "version": 3
   },
   "file_extension": ".py",
   "mimetype": "text/x-python",
   "name": "python",
   "nbconvert_exporter": "python",
   "pygments_lexer": "ipython3",
   "version": "3.7.4"
  }
 },
 "nbformat": 4,
 "nbformat_minor": 2
}
